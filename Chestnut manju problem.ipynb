{
 "cells": [
  {
   "cell_type": "code",
   "execution_count": null,
   "metadata": {},
   "outputs": [],
   "source": [
    "import math\n",
    "import matplotlib.pyplot as plt\n",
    "\n",
    "# Constants\n",
    "AU_IN_METERS = 149.6e9  # 1 AU in meters\n",
    "SOLAR_SYSTEM_RADIUS_AU = 100  # Approximate radius of the Solar System in AU\n",
    "BUN_RADIUS_CM = 5  # Radius of a chestnut bun in cm\n",
    "BUN_RADIUS_METERS = BUN_RADIUS_CM / 100  # Convert radius to meters\n",
    "\n",
    "# Volume of a single chestnut bun (sphere formula: V = 4/3 * pi * r^3)\n",
    "def volume_of_bun(radius):\n",
    "    return (4/3) * math.pi * (radius ** 3)\n",
    "\n",
    "# Volume of the Solar System (sphere formula: V = 4/3 * pi * r^3)\n",
    "def volume_of_solar_system(radius_au):\n",
    "    radius_meters = radius_au * AU_IN_METERS\n",
    "    return (4/3) * math.pi * (radius_meters ** 3)\n",
    "\n",
    "# Function for the time to fill the solar system with buns\n",
    "def time_to_fill_solar_system(initial_bun_volume, solar_system_volume, doubling_time=5):\n",
    "    # Time in minutes for the volume to exceed the solar system volume\n",
    "    time = 0\n",
    "    current_volume = initial_bun_volume\n",
    "    volumes = [current_volume]\n",
    "    times = [time]\n",
    "\n",
    "    while current_volume < solar_system_volume:\n",
    "        time += doubling_time  # Time increases by the doubling interval\n",
    "        current_volume *= 2  # The volume doubles every doubling_time minutes\n",
    "        volumes.append(current_volume)\n",
    "        times.append(time)\n",
    "\n",
    "    return time, volumes, times\n",
    "\n",
    "# volumes\n",
    "bun_volume = volume_of_bun(BUN_RADIUS_METERS)\n",
    "solar_system_volume = volume_of_solar_system(SOLAR_SYSTEM_RADIUS_AU)\n",
    "\n",
    "# time to fill the solar system\n",
    "time_to_fill, volumes, times = time_to_fill_solar_system(bun_volume, solar_system_volume)\n",
    "\n",
    "# time it takes in hours\n",
    "time_in_hours = time_to_fill / 60  # Convert minutes to hours\n",
    "print(f\"Time to fill the Solar System with chestnut buns: {time_in_hours:.2f} hours\")\n",
    "\n",
    "# graph to visualize the growth of chestnut bun volume over time\n",
    "plt.plot(times, volumes, label='Chestnut bun volume', color='blue')\n",
    "plt.yscale('log')  # Use a logarithmic scale for better visualization\n",
    "plt.title('Volume of Chestnut Buns Over Time')\n",
    "plt.xlabel('Time (minutes)')\n",
    "plt.ylabel('Volume (m³)')\n",
    "plt.grid(True)\n",
    "plt.legend()\n",
    "plt.show()\n"
   ]
  }
 ],
 "metadata": {
  "kernelspec": {
   "display_name": "Python 3",
   "language": "python",
   "name": "python3"
  },
  "language_info": {
   "name": "python",
   "version": "3.8.10"
  }
 },
 "nbformat": 4,
 "nbformat_minor": 2
}
